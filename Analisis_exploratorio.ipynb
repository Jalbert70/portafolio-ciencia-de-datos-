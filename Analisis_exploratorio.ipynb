{
 "cells": [
  {
   "cell_type": "code",
   "execution_count": 2,
   "id": "828bce36-cbe1-4f7e-9254-01d1a962cdea",
   "metadata": {},
   "outputs": [],
   "source": [
    "# primero importamos el módulo pandas para poder usar los métodos de este paquete\n",
    "import pandas as pd\n",
    "\n",
    "# guardo la ruta de acceso al archivo DE MI DRIVE (USTED DEBE PONER LA SUYA) \n",
    "path = r\"C:\\Users\\juan-\\OneDrive\\Estudios AIEP\\APLICACIÓN ESTADÍSTICA AL ANÁLISIS DE DATOS\\Semana 1\\datos_supermercadousa_listo_para_analisis.csv\"\n",
    "\n",
    "# y definimos (creamos)  una nueva variable llamada \"df\" con el resultado de la aplicación del método read_csv de pandas, tomando como argumento path (la ruta al archivo)\n",
    "df = pd.read_csv(path)\n",
    "\n",
    "# este dataframe viene en inglés así que cambiaremos los nombres de sus encabezados con el método rename()\n",
    "df = df.rename(columns= {'Invoice ID':\"id\", 'Branch':\"Sucursal\", 'City':\"Ciudad\", \n",
    "               'Customer type':\"Tipo de cliente\", 'Gender':\"Género\",\n",
    "               'Product line': \"Línea de producto\", 'Unit price':\"Precio unitario\", \n",
    "               'Quantity':\"Cantidad de productos\", 'Tax 5%':\"Impuesto\", 'Total':\"Total\", 'Date':\"Fecha\",\n",
    "               'Time':\"Hora\", 'Payment':\"Pago\", 'cogs':\"Costo bienes vendidos\", \n",
    "               'gross margin percentage':\"Porcentaje de margen bruto\", 'gross income':\"Ingreso bruto\",\n",
    "               'Rating':\"Calificación\"})"
   ]
  },
  {
   "cell_type": "code",
   "execution_count": 20,
   "id": "c9d81ce6-530e-46ff-81c5-97eeac91523d",
   "metadata": {},
   "outputs": [
    {
     "data": {
      "text/html": [
       "<div>\n",
       "<style scoped>\n",
       "    .dataframe tbody tr th:only-of-type {\n",
       "        vertical-align: middle;\n",
       "    }\n",
       "\n",
       "    .dataframe tbody tr th {\n",
       "        vertical-align: top;\n",
       "    }\n",
       "\n",
       "    .dataframe thead th {\n",
       "        text-align: right;\n",
       "    }\n",
       "</style>\n",
       "<table border=\"1\" class=\"dataframe\">\n",
       "  <thead>\n",
       "    <tr style=\"text-align: right;\">\n",
       "      <th></th>\n",
       "      <th>Invoice ID</th>\n",
       "      <th>Sucursal</th>\n",
       "      <th>Ciudad</th>\n",
       "      <th>Tipo de comprador</th>\n",
       "      <th>Género</th>\n",
       "      <th>Linea de producto</th>\n",
       "      <th>Precio por unidad</th>\n",
       "      <th>Canrtidad</th>\n",
       "      <th>Impuesto 5%</th>\n",
       "      <th>Total</th>\n",
       "      <th>Fecha</th>\n",
       "      <th>Tiempo</th>\n",
       "      <th>Tipo de pago</th>\n",
       "      <th>cogs</th>\n",
       "      <th>Margen bruto</th>\n",
       "      <th>Ingreso bruto</th>\n",
       "      <th>Rating</th>\n",
       "    </tr>\n",
       "  </thead>\n",
       "  <tbody>\n",
       "    <tr>\n",
       "      <th>0</th>\n",
       "      <td>750-67-8428</td>\n",
       "      <td>A</td>\n",
       "      <td>Yangon</td>\n",
       "      <td>Member</td>\n",
       "      <td>Female</td>\n",
       "      <td>Health and beauty</td>\n",
       "      <td>74.69</td>\n",
       "      <td>7</td>\n",
       "      <td>261.415</td>\n",
       "      <td>5489.715</td>\n",
       "      <td>01/05/2019</td>\n",
       "      <td>13:08</td>\n",
       "      <td>Ewallet</td>\n",
       "      <td>522.83</td>\n",
       "      <td>4761904.762</td>\n",
       "      <td>261.415</td>\n",
       "      <td>9.1</td>\n",
       "    </tr>\n",
       "    <tr>\n",
       "      <th>1</th>\n",
       "      <td>226-31-3081</td>\n",
       "      <td>C</td>\n",
       "      <td>Naypyitaw</td>\n",
       "      <td>Normal</td>\n",
       "      <td>Female</td>\n",
       "      <td>Electronic accessories</td>\n",
       "      <td>15.28</td>\n",
       "      <td>5</td>\n",
       "      <td>3.820</td>\n",
       "      <td>8.022</td>\n",
       "      <td>03/08/2019</td>\n",
       "      <td>10:29</td>\n",
       "      <td>Cash</td>\n",
       "      <td>76.40</td>\n",
       "      <td>4761904.762</td>\n",
       "      <td>3.820</td>\n",
       "      <td>9.6</td>\n",
       "    </tr>\n",
       "    <tr>\n",
       "      <th>2</th>\n",
       "      <td>631-41-3108</td>\n",
       "      <td>A</td>\n",
       "      <td>Yangon</td>\n",
       "      <td>Normal</td>\n",
       "      <td>Male</td>\n",
       "      <td>Home and lifestyle</td>\n",
       "      <td>46.33</td>\n",
       "      <td>7</td>\n",
       "      <td>162.155</td>\n",
       "      <td>3405.255</td>\n",
       "      <td>03/03/2019</td>\n",
       "      <td>13:23</td>\n",
       "      <td>Credit card</td>\n",
       "      <td>324.31</td>\n",
       "      <td>4761904.762</td>\n",
       "      <td>162.155</td>\n",
       "      <td>7.4</td>\n",
       "    </tr>\n",
       "    <tr>\n",
       "      <th>3</th>\n",
       "      <td>123-19-1176</td>\n",
       "      <td>A</td>\n",
       "      <td>Yangon</td>\n",
       "      <td>Member</td>\n",
       "      <td>Male</td>\n",
       "      <td>Health and beauty</td>\n",
       "      <td>58.22</td>\n",
       "      <td>8</td>\n",
       "      <td>23.288</td>\n",
       "      <td>489.048</td>\n",
       "      <td>1/27/2019</td>\n",
       "      <td>20:33</td>\n",
       "      <td>Ewallet</td>\n",
       "      <td>465.76</td>\n",
       "      <td>4761904.762</td>\n",
       "      <td>23.288</td>\n",
       "      <td>8.4</td>\n",
       "    </tr>\n",
       "    <tr>\n",
       "      <th>4</th>\n",
       "      <td>373-73-7910</td>\n",
       "      <td>A</td>\n",
       "      <td>Yangon</td>\n",
       "      <td>Normal</td>\n",
       "      <td>Male</td>\n",
       "      <td>Sports and travel</td>\n",
       "      <td>86.31</td>\n",
       "      <td>7</td>\n",
       "      <td>302.085</td>\n",
       "      <td>6343.785</td>\n",
       "      <td>02/08/2019</td>\n",
       "      <td>10:37</td>\n",
       "      <td>Ewallet</td>\n",
       "      <td>604.17</td>\n",
       "      <td>4761904.762</td>\n",
       "      <td>302.085</td>\n",
       "      <td>5.3</td>\n",
       "    </tr>\n",
       "  </tbody>\n",
       "</table>\n",
       "</div>"
      ],
      "text/plain": [
       "    Invoice ID Sucursal     Ciudad Tipo de comprador  Género  \\\n",
       "0  750-67-8428        A     Yangon            Member  Female   \n",
       "1  226-31-3081        C  Naypyitaw            Normal  Female   \n",
       "2  631-41-3108        A     Yangon            Normal    Male   \n",
       "3  123-19-1176        A     Yangon            Member    Male   \n",
       "4  373-73-7910        A     Yangon            Normal    Male   \n",
       "\n",
       "        Linea de producto  Precio por unidad  Canrtidad  Impuesto 5%  \\\n",
       "0       Health and beauty              74.69          7      261.415   \n",
       "1  Electronic accessories              15.28          5        3.820   \n",
       "2      Home and lifestyle              46.33          7      162.155   \n",
       "3       Health and beauty              58.22          8       23.288   \n",
       "4       Sports and travel              86.31          7      302.085   \n",
       "\n",
       "      Total       Fecha Tiempo Tipo de pago    cogs  Margen bruto  \\\n",
       "0  5489.715  01/05/2019  13:08      Ewallet  522.83   4761904.762   \n",
       "1     8.022  03/08/2019  10:29         Cash   76.40   4761904.762   \n",
       "2  3405.255  03/03/2019  13:23  Credit card  324.31   4761904.762   \n",
       "3   489.048   1/27/2019  20:33      Ewallet  465.76   4761904.762   \n",
       "4  6343.785  02/08/2019  10:37      Ewallet  604.17   4761904.762   \n",
       "\n",
       "   Ingreso bruto  Rating  \n",
       "0        261.415     9.1  \n",
       "1          3.820     9.6  \n",
       "2        162.155     7.4  \n",
       "3         23.288     8.4  \n",
       "4        302.085     5.3  "
      ]
     },
     "execution_count": 20,
     "metadata": {},
     "output_type": "execute_result"
    }
   ],
   "source": [
    "df.head()"
   ]
  },
  {
   "cell_type": "code",
   "execution_count": 6,
   "id": "76274993-394a-46f4-8381-2f7e9ccc058a",
   "metadata": {},
   "outputs": [
    {
     "name": "stdout",
     "output_type": "stream",
     "text": [
      "Media del impuesto: 44.63323\n"
     ]
    }
   ],
   "source": [
    "import pandas as pd\n",
    "df = pd.read_csv(\"datos_supermercadousa_listo_para_analisis.csv\")\n",
    "media_impuesto = df[\"Impuesto 5%\"].mean()\n",
    "print(\"Media del impuesto:\", media_impuesto)\n"
   ]
  },
  {
   "cell_type": "code",
   "execution_count": 8,
   "id": "4be285d1-b4ae-49f5-9919-757ce597c802",
   "metadata": {},
   "outputs": [
    {
     "name": "stdout",
     "output_type": "stream",
     "text": [
      "Mediana del impuesto: 17.334000000000003\n"
     ]
    }
   ],
   "source": [
    "mediana_impuesto = df[\"Impuesto 5%\"].median()\n",
    "print(\"Mediana del impuesto:\", mediana_impuesto)\n"
   ]
  },
  {
   "cell_type": "code",
   "execution_count": 10,
   "id": "6917cf6f-c5b0-456a-a139-804913bf51ad",
   "metadata": {},
   "outputs": [
    {
     "name": "stdout",
     "output_type": "stream",
     "text": [
      "Moda de Línea de producto: Fashion accessories\n"
     ]
    }
   ],
   "source": [
    "moda_linea = df[\"Linea de producto\"].mode()[0]\n",
    "print(\"Moda de Línea de producto:\", moda_linea)\n"
   ]
  },
  {
   "cell_type": "code",
   "execution_count": 12,
   "id": "da79af0f-6de8-4431-b9c3-5079644f320f",
   "metadata": {},
   "outputs": [
    {
     "name": "stdout",
     "output_type": "stream",
     "text": [
      "Percentil 75 de Total: 696.84825\n"
     ]
    }
   ],
   "source": [
    "q3_total = df[\"Total\"].quantile(0.75)\n",
    "print(\"Percentil 75 de Total:\", q3_total)\n"
   ]
  },
  {
   "cell_type": "code",
   "execution_count": 14,
   "id": "6262c5a9-b3ef-431f-be03-a9f18bd88923",
   "metadata": {},
   "outputs": [
    {
     "name": "stdout",
     "output_type": "stream",
     "text": [
      "Rango intercuartil: 28.668000000000003\n"
     ]
    }
   ],
   "source": [
    "q1 = df[\"Ingreso bruto\"].quantile(0.25)\n",
    "q3 = df[\"Ingreso bruto\"].quantile(0.75)\n",
    "ric = q3 - q1\n",
    "print(\"Rango intercuartil:\", ric)\n"
   ]
  },
  {
   "cell_type": "code",
   "execution_count": 18,
   "id": "e094d342-7588-4a7e-b156-0bc715128754",
   "metadata": {},
   "outputs": [
    {
     "name": "stdout",
     "output_type": "stream",
     "text": [
      "Desviación estándar de Ingreso bruto: 75.56433113579845\n"
     ]
    }
   ],
   "source": [
    "desv_est = df[\"Ingreso bruto\"].std()\n",
    "print(\"Desviación estándar de Ingreso bruto:\", desv_est)\n"
   ]
  },
  {
   "cell_type": "code",
   "execution_count": null,
   "id": "554d0f38-af16-45a8-9b48-df0c4884b4ed",
   "metadata": {},
   "outputs": [],
   "source": []
  }
 ],
 "metadata": {
  "kernelspec": {
   "display_name": "Python [conda env:base] *",
   "language": "python",
   "name": "conda-base-py"
  },
  "language_info": {
   "codemirror_mode": {
    "name": "ipython",
    "version": 3
   },
   "file_extension": ".py",
   "mimetype": "text/x-python",
   "name": "python",
   "nbconvert_exporter": "python",
   "pygments_lexer": "ipython3",
   "version": "3.12.7"
  }
 },
 "nbformat": 4,
 "nbformat_minor": 5
}
